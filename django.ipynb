{
 "cells": [
  {
   "cell_type": "markdown",
   "id": "4eaa67be-9e54-470b-bc8e-f3974f2d6ee6",
   "metadata": {},
   "source": [
    "# Soirée de prog #5 option B: applications web avec Django\n",
    "\n",
    "2022-06-27, 19h00 à 21h00 EDT\n",
    "\n",
    "Voir [ce document](https://docs.google.com/document/d/1VA6s5UpuEk_qc7MACX_XK1KyuGm1IWu7CF4p420vR58/edit) pour le programme détaillé de ce qui nous allons faire aujoud'hui, et voir [le document parent](https://docs.google.com/document/d/1Thp26TK1AAWGzq_jtIlJ_xTfZq5khTy4NYh_au_A3Qo/edit) pour les infos de l'evenment en general.\n"
   ]
  },
  {
   "cell_type": "markdown",
   "id": "74771ee9-58a7-4360-8d00-084c1cf9dbd0",
   "metadata": {},
   "source": [
    "## Etape 0: Préparation de l'environment de programmation\n",
    "\n"
   ]
  },
  {
   "cell_type": "markdown",
   "id": "f62ba8f2-9fc4-4a92-95ed-287c1a206f3b",
   "metadata": {
    "tags": []
   },
   "source": [
    "## Etape 03: Utiliser les gabarits HTML pour afficher les pages\n",
    "\n",
    "\n",
    "\n",
    "\n",
    "```\n",
    "<!doctype html>\n",
    "<html lang=\"en\">\n",
    "\n",
    "  <head>\n",
    "    <meta charset=\"utf-8\">\n",
    "    <title>Titre de la page</title>\n",
    "    <link rel=\"stylesheet\" href=\"https://cdn.jsdelivr.net/npm/bootstrap@4.4.1/dist/css/bootstrap.min.css\">\n",
    "    <style>\n",
    "        body {\n",
    "          padding-top: 4rem;\n",
    "        }\n",
    "    </style>\n",
    "  </head>\n",
    "\n",
    "  <body>\n",
    "    <main class=\"container\">\n",
    "\n",
    "      <div>\n",
    "        <h1>Titre principal</h1>\n",
    "        <p class=\"lead\">\n",
    "            Texte qui explique l'idée de ton site en deux phrases.<br>\n",
    "            Ceci est un document HTML barebones que nous allons modifier.\n",
    "        </p>\n",
    "      </div>\n",
    "\n",
    "    </main>\n",
    "  </body>\n",
    "\n",
    "</html>\n",
    "```"
   ]
  },
  {
   "cell_type": "code",
   "execution_count": 3,
   "id": "eb66c950-a58b-4224-85c1-6b3f858798f4",
   "metadata": {},
   "outputs": [],
   "source": [
    "import os\n",
    "import django\n",
    "import sys"
   ]
  },
  {
   "cell_type": "code",
   "execution_count": 4,
   "id": "6b2b9b17-170a-451a-932d-00011e089aee",
   "metadata": {},
   "outputs": [
    {
     "data": {
      "text/plain": [
       "'/Users/ivan/Projects/Minireference/content/DjangoTutorialFR/monproj'"
      ]
     },
     "execution_count": 4,
     "metadata": {},
     "output_type": "execute_result"
    }
   ],
   "source": [
    "%pwd"
   ]
  },
  {
   "cell_type": "code",
   "execution_count": 5,
   "id": "569114be-5b51-46d5-bf49-228d3fe2a218",
   "metadata": {},
   "outputs": [
    {
     "name": "stdout",
     "output_type": "stream",
     "text": [
      "/Users/ivan/Projects/Minireference/content/DjangoTutorialFR/monproj/monproj\n"
     ]
    }
   ],
   "source": [
    "%cd monproj"
   ]
  },
  {
   "cell_type": "code",
   "execution_count": null,
   "id": "9998353d-cb7e-4cc3-bfcc-603848bbc737",
   "metadata": {},
   "outputs": [],
   "source": []
  },
  {
   "cell_type": "code",
   "execution_count": 7,
   "id": "70907e9e-8e7c-426d-a00a-60136e3ea26e",
   "metadata": {},
   "outputs": [],
   "source": [
    "sys.path.insert(0, os.getenv('PWD'))"
   ]
  },
  {
   "cell_type": "code",
   "execution_count": 8,
   "id": "35902446-af6f-46b7-ad34-290492a3743d",
   "metadata": {},
   "outputs": [],
   "source": [
    "os.environ[\"DJANGO_SETTINGS_MODULE\"] = \"monproj.settings\"\n",
    "os.environ[\"DJANGO_ALLOW_ASYNC_UNSAFE\"] = \"true\"\n",
    "django.setup()"
   ]
  },
  {
   "cell_type": "code",
   "execution_count": 9,
   "id": "f1439c58-52cc-4913-b080-65d3cc286241",
   "metadata": {},
   "outputs": [],
   "source": [
    "from django.template.loader import get_template\n",
    "template = get_template(\"homepage.html\")"
   ]
  },
  {
   "cell_type": "code",
   "execution_count": null,
   "id": "96c28763-c565-47d8-a5d0-626c28b519c6",
   "metadata": {},
   "outputs": [],
   "source": []
  },
  {
   "cell_type": "code",
   "execution_count": 13,
   "id": "4f7b6487-f61d-4293-9e66-7ffce0cc5941",
   "metadata": {},
   "outputs": [],
   "source": [
    "# no context specified... all placeholders are replaces with empty string \"\"\n",
    "# print(template.render())"
   ]
  },
  {
   "cell_type": "code",
   "execution_count": 15,
   "id": "e57b2325-6d85-4808-ba6f-64bb82849a24",
   "metadata": {},
   "outputs": [
    {
     "name": "stdout",
     "output_type": "stream",
     "text": [
      "<!doctype html>\n",
      "<html lang=\"en\">\n",
      "\n",
      "  <head>\n",
      "    <meta charset=\"utf-8\">\n",
      "    <title>le nom</title>\n",
      "    <link rel=\"stylesheet\" href=\"https://cdn.jsdelivr.net/npm/bootstrap@4.4.1/dist/css/bootstrap.min.css\">\n",
      "    <style>\n",
      "        body {\n",
      "          padding-top: 4rem;\n",
      "        }\n",
      "    </style>\n",
      "  </head>\n",
      "\n",
      "  <body>\n",
      "    <main class=\"container\">\n",
      "\n",
      "      <div>\n",
      "        <h1>le nom</h1>\n",
      "        <p class=\"lead\">\n",
      "            le pitch\n",
      "        </p>\n",
      "      </div>\n",
      "\n",
      "    </main>\n",
      "  </body>\n",
      "\n",
      "</html>\n",
      "\n"
     ]
    }
   ],
   "source": [
    "context = {\n",
    "    \"nomcompagnie\": \"le nom\",\n",
    "    \"pitch\": \"le pitch\",\n",
    "}\n",
    "print(template.render(context))"
   ]
  },
  {
   "cell_type": "markdown",
   "id": "a5d947cb-ff3f-4246-a5c6-2a43729e10d4",
   "metadata": {},
   "source": [
    "## Créer et lire des données stockées dans une base de données"
   ]
  },
  {
   "cell_type": "code",
   "execution_count": 1,
   "id": "bcee83e8-9d1d-4002-9911-cdaf5b785a05",
   "metadata": {},
   "outputs": [
    {
     "data": {
      "text/plain": [
       "'/Users/ivan/Projects/Minireference/content/DjangoTutorialFR'"
      ]
     },
     "execution_count": 1,
     "metadata": {},
     "output_type": "execute_result"
    }
   ],
   "source": [
    "%pwd"
   ]
  },
  {
   "cell_type": "code",
   "execution_count": 2,
   "id": "6840edf2-20de-4105-a9fe-9b0c61f3e439",
   "metadata": {},
   "outputs": [
    {
     "name": "stdout",
     "output_type": "stream",
     "text": [
      "/Users/ivan/Projects/Minireference/content/DjangoTutorialFR/monproj\n"
     ]
    }
   ],
   "source": [
    "%cd monproj"
   ]
  },
  {
   "cell_type": "code",
   "execution_count": 5,
   "id": "337d6324-c91f-4a39-af26-4b0fe404382f",
   "metadata": {},
   "outputs": [],
   "source": [
    "# !./manage.py makemigrations"
   ]
  },
  {
   "cell_type": "code",
   "execution_count": 6,
   "id": "708e44c0-1be3-4018-ac11-3d48d53e4f6b",
   "metadata": {},
   "outputs": [],
   "source": [
    "# !./manage.py migrate"
   ]
  },
  {
   "cell_type": "code",
   "execution_count": null,
   "id": "0e7327b4-b825-49d0-afa8-1c073a16aa2b",
   "metadata": {},
   "outputs": [],
   "source": []
  },
  {
   "cell_type": "code",
   "execution_count": null,
   "id": "3edab034-034e-4f0b-8d31-aab1316ddd09",
   "metadata": {},
   "outputs": [],
   "source": []
  },
  {
   "cell_type": "code",
   "execution_count": 16,
   "id": "af0869ae-3a0c-422b-93c7-c66902726be5",
   "metadata": {},
   "outputs": [
    {
     "data": {
      "text/plain": [
       "'/Users/ivan/Projects/Minireference/content/DjangoTutorialFR/monproj'"
      ]
     },
     "execution_count": 16,
     "metadata": {},
     "output_type": "execute_result"
    }
   ],
   "source": [
    "%pwd"
   ]
  },
  {
   "cell_type": "code",
   "execution_count": 17,
   "id": "7694d20b-fe36-449e-816b-d39c9c07b7e1",
   "metadata": {},
   "outputs": [
    {
     "data": {
      "text/plain": [
       "[None,\n",
       " '/Users/ivan/Projects/Minireference/content/DjangoTutorialFR',\n",
       " '/Applications/JupyterLab.app/Contents/Resources/jlab_server/lib/python38.zip',\n",
       " '/Applications/JupyterLab.app/Contents/Resources/jlab_server/lib/python3.8',\n",
       " '/Applications/JupyterLab.app/Contents/Resources/jlab_server/lib/python3.8/lib-dynload',\n",
       " '',\n",
       " '/Users/ivan/.local/lib/python3.8/site-packages',\n",
       " '/Applications/JupyterLab.app/Contents/Resources/jlab_server/lib/python3.8/site-packages',\n",
       " '/Applications/JupyterLab.app/Contents/Resources/jlab_server/lib/python3.8/site-packages/IPython/extensions',\n",
       " '/Users/ivan/.ipython']"
      ]
     },
     "execution_count": 17,
     "metadata": {},
     "output_type": "execute_result"
    }
   ],
   "source": [
    "sys.path"
   ]
  },
  {
   "cell_type": "code",
   "execution_count": 10,
   "id": "0dd3a01a-fa98-4b0f-827e-a89389d96cd6",
   "metadata": {},
   "outputs": [],
   "source": [
    "from monsite.models import Book"
   ]
  },
  {
   "cell_type": "code",
   "execution_count": 11,
   "id": "8d4b78d9-97e7-4012-847a-27a09ad1e122",
   "metadata": {},
   "outputs": [
    {
     "data": {
      "text/plain": [
       "<QuerySet [<Book: Book object (1)>]>"
      ]
     },
     "execution_count": 11,
     "metadata": {},
     "output_type": "execute_result"
    }
   ],
   "source": [
    "Book.objects.all()"
   ]
  },
  {
   "cell_type": "code",
   "execution_count": 13,
   "id": "8102abaa-cfaa-4bea-9566-52d314d39535",
   "metadata": {},
   "outputs": [],
   "source": [
    "book2 = Book.objects.create(title=\"autre titre\", author=\"Lauteur\")\n",
    "book2.save()"
   ]
  },
  {
   "cell_type": "code",
   "execution_count": 14,
   "id": "a00bcd68-3879-44cf-858f-c4aaabe331e5",
   "metadata": {},
   "outputs": [],
   "source": [
    "book3 = Book.objects.create(title=\"titre 3\", author=\"Lauteur 3\")\n",
    "book3.save()"
   ]
  },
  {
   "cell_type": "code",
   "execution_count": null,
   "id": "6c4f7ebc-c17f-468b-a64d-0a4eb9c913db",
   "metadata": {},
   "outputs": [],
   "source": []
  }
 ],
 "metadata": {
  "kernelspec": {
   "display_name": "Python 3 (ipykernel)",
   "language": "python",
   "name": "python3"
  },
  "language_info": {
   "codemirror_mode": {
    "name": "ipython",
    "version": 3
   },
   "file_extension": ".py",
   "mimetype": "text/x-python",
   "name": "python",
   "nbconvert_exporter": "python",
   "pygments_lexer": "ipython3",
   "version": "3.8.12"
  }
 },
 "nbformat": 4,
 "nbformat_minor": 5
}
