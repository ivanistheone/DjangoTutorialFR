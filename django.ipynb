{
 "cells": [
  {
   "cell_type": "code",
   "execution_count": null,
   "id": "904855fd-e475-4313-9706-0d53f89bf56e",
   "metadata": {},
   "outputs": [],
   "source": []
  },
  {
   "cell_type": "code",
   "execution_count": 1,
   "id": "8690229c-ed31-4f54-82d8-bf9731bbc369",
   "metadata": {},
   "outputs": [
    {
     "name": "stdout",
     "output_type": "stream",
     "text": [
      "Defaulting to user installation because normal site-packages is not writeable\n",
      "Requirement already satisfied: django in /Users/ivan/.local/lib/python3.8/site-packages (4.0.4)\n",
      "Requirement already satisfied: asgiref<4,>=3.4.1 in /Users/ivan/.local/lib/python3.8/site-packages (from django) (3.5.1)\n",
      "Requirement already satisfied: sqlparse>=0.2.2 in /Users/ivan/.local/lib/python3.8/site-packages (from django) (0.4.2)\n",
      "Requirement already satisfied: backports.zoneinfo in /Users/ivan/.local/lib/python3.8/site-packages (from django) (0.2.1)\n",
      "Note: you may need to restart the kernel to use updated packages.\n"
     ]
    }
   ],
   "source": [
    "%pip install django"
   ]
  },
  {
   "cell_type": "code",
   "execution_count": 2,
   "id": "9b23fc9c-45ba-4f2f-a947-c2a259182b77",
   "metadata": {},
   "outputs": [
    {
     "data": {
      "text/plain": [
       "'/Users/ivan/Projects/Minireference/content/DjangoTutorialFR'"
      ]
     },
     "execution_count": 2,
     "metadata": {},
     "output_type": "execute_result"
    }
   ],
   "source": [
    "%pwd"
   ]
  },
  {
   "cell_type": "code",
   "execution_count": 3,
   "id": "39933f71-eb75-4fa0-80b1-0292aa29bb28",
   "metadata": {},
   "outputs": [],
   "source": [
    "!django-admin startproject monproj"
   ]
  },
  {
   "cell_type": "code",
   "execution_count": 16,
   "id": "ae3e98c4-1ca8-4462-84c4-862a4c32d6c2",
   "metadata": {},
   "outputs": [
    {
     "name": "stdout",
     "output_type": "stream",
     "text": [
      "/Users/ivan/Projects/Minireference/content/DjangoTutorialFR/monproj/monproj\n"
     ]
    }
   ],
   "source": [
    "%cd monproj"
   ]
  },
  {
   "cell_type": "code",
   "execution_count": 17,
   "id": "2d023ca0-ab89-41cc-9e39-5a1e3573266b",
   "metadata": {},
   "outputs": [
    {
     "data": {
      "text/plain": [
       "'/Users/ivan/Projects/Minireference/content/DjangoTutorialFR/monproj/monproj'"
      ]
     },
     "execution_count": 17,
     "metadata": {},
     "output_type": "execute_result"
    }
   ],
   "source": [
    "%pwd"
   ]
  },
  {
   "cell_type": "code",
   "execution_count": 18,
   "id": "f9887036-f842-4d89-8097-d68de56005b4",
   "metadata": {},
   "outputs": [],
   "source": [
    "!django-admin startapp monsite"
   ]
  },
  {
   "cell_type": "code",
   "execution_count": 31,
   "id": "d8a8af03-cfa8-434c-ae0d-3dd84712f0fe",
   "metadata": {},
   "outputs": [
    {
     "name": "stdout",
     "output_type": "stream",
     "text": [
      " ./\n",
      "     .DS_Store\n",
      "     __init__.py\n",
      "     settings.py\n",
      "     urls.py\n",
      "     wsgi.py\n",
      "     monsite/\n",
      "         models.py\n",
      "         __init__.py\n",
      "         apps.py\n",
      "         admin.py\n",
      "         tests.py\n",
      "         views.py\n",
      "         migrations/\n",
      "             __init__.py\n"
     ]
    }
   ],
   "source": [
    "import os\n",
    "\n",
    "def tree():\n",
    "    \"\"\"Function that prints filesystem tree\"\"\"\n",
    "    for root, dirs, files in os.walk(\".\"):\n",
    "        path = root.split(os.sep)\n",
    "        indent = \"    \"\n",
    "        print((len(path) - 1) * indent, os.path.basename(root) + \"/\")\n",
    "        for file in files:\n",
    "            print(len(path) * indent, file)\n",
    "tree()"
   ]
  },
  {
   "cell_type": "code",
   "execution_count": null,
   "id": "a2768548-638f-48fb-b689-ad74296a8b3c",
   "metadata": {},
   "outputs": [],
   "source": []
  },
  {
   "cell_type": "code",
   "execution_count": 34,
   "id": "b31dba2a-6d24-492b-b587-780f8b3abb3c",
   "metadata": {},
   "outputs": [
    {
     "name": "stdout",
     "output_type": "stream",
     "text": [
      "/Users/ivan/Projects/Minireference/content/DjangoTutorialFR/monproj\n"
     ]
    }
   ],
   "source": [
    "%cd .."
   ]
  },
  {
   "cell_type": "code",
   "execution_count": 36,
   "id": "1d233974-9cf4-4461-bc2e-7ddf6555dc5d",
   "metadata": {},
   "outputs": [
    {
     "name": "stdout",
     "output_type": "stream",
     "text": [
      "/Users/ivan/Projects/Minireference/content/DjangoTutorialFR\n"
     ]
    }
   ],
   "source": [
    "%cd .."
   ]
  },
  {
   "cell_type": "code",
   "execution_count": 1,
   "id": "1a187d58-5210-4ab5-afd1-f29b918fb7e1",
   "metadata": {},
   "outputs": [
    {
     "data": {
      "text/plain": [
       "'/Users/ivan/Projects/Minireference/content/DjangoTutorialFR'"
      ]
     },
     "execution_count": 1,
     "metadata": {},
     "output_type": "execute_result"
    }
   ],
   "source": [
    "%pwd"
   ]
  },
  {
   "cell_type": "code",
   "execution_count": 2,
   "id": "ebe2d23f-ce58-41eb-9839-fb112049eb16",
   "metadata": {},
   "outputs": [
    {
     "name": "stdout",
     "output_type": "stream",
     "text": [
      "/Users/ivan/Projects/Minireference/content/DjangoTutorialFR/monproj\n"
     ]
    }
   ],
   "source": [
    "%cd monproj"
   ]
  },
  {
   "cell_type": "code",
   "execution_count": null,
   "id": "9272afd1-99d8-4e59-b434-98337e67f455",
   "metadata": {},
   "outputs": [
    {
     "name": "stdout",
     "output_type": "stream",
     "text": [
      "Performing system checks...\n",
      "\n",
      "System check identified no issues (0 silenced).\n",
      "\u001b[31m\n",
      "You have 13 unapplied migration(s). Your project may not work properly until you apply the migrations for app(s): admin, auth, contenttypes, sessions.\u001b[0m\n",
      "\u001b[31mRun 'python manage.py migrate' to apply them.\n",
      "\u001b[0m\n",
      "June 16, 2022 - 16:02:25\n",
      "Django version 1.11.23, using settings 'monproj.settings'\n",
      "Starting development server at http://127.0.0.1:8000/\n",
      "Quit the server with CONTROL-C.\n",
      "Not Found: /\n",
      "[16/Jun/2022 16:02:28] \u001b[33m\"GET / HTTP/1.1\" 404 2018\u001b[0m\n",
      "Not Found: /\n",
      "[16/Jun/2022 16:02:45] \u001b[33m\"GET / HTTP/1.1\" 404 2018\u001b[0m\n",
      "Not Found: /favicon.ico\n",
      "[16/Jun/2022 16:02:46] \u001b[33m\"GET /favicon.ico HTTP/1.1\" 404 2069\u001b[0m\n",
      "Internal Server Error: /hello\n",
      "Traceback (most recent call last):\n",
      "  File \"/Users/ivan/.pyenv/versions/3.6.9/lib/python3.6/site-packages/django/core/handlers/exception.py\", line 41, in inner\n",
      "    response = get_response(request)\n",
      "  File \"/Users/ivan/.pyenv/versions/3.6.9/lib/python3.6/site-packages/django/core/handlers/base.py\", line 198, in _get_response\n",
      "    \"returned None instead.\" % (callback.__module__, view_name)\n",
      "ValueError: The view monsite.views.hello didn't return an HttpResponse object. It returned None instead.\n",
      "[16/Jun/2022 16:02:53] \u001b[35;1m\"GET /hello HTTP/1.1\" 500 55721\u001b[0m\n",
      "Performing system checks...\n",
      "\n",
      "System check identified no issues (0 silenced).\n",
      "\u001b[31m\n",
      "You have 13 unapplied migration(s). Your project may not work properly until you apply the migrations for app(s): admin, auth, contenttypes, sessions.\u001b[0m\n",
      "\u001b[31mRun 'python manage.py migrate' to apply them.\n",
      "\u001b[0m\n",
      "June 16, 2022 - 16:03:23\n",
      "Django version 1.11.23, using settings 'monproj.settings'\n",
      "Starting development server at http://127.0.0.1:8000/\n",
      "Quit the server with CONTROL-C.\n",
      "[16/Jun/2022 16:03:23] \u001b[m\"GET /hello HTTP/1.1\" 200 16\u001b[0m\n"
     ]
    }
   ],
   "source": [
    "!./manage.py runserver"
   ]
  },
  {
   "cell_type": "code",
   "execution_count": null,
   "id": "32b0a799-20b9-472e-a629-e505d2fb7db8",
   "metadata": {},
   "outputs": [],
   "source": []
  }
 ],
 "metadata": {
  "kernelspec": {
   "display_name": "Python 3 (ipykernel)",
   "language": "python",
   "name": "python3"
  },
  "language_info": {
   "codemirror_mode": {
    "name": "ipython",
    "version": 3
   },
   "file_extension": ".py",
   "mimetype": "text/x-python",
   "name": "python",
   "nbconvert_exporter": "python",
   "pygments_lexer": "ipython3",
   "version": "3.8.12"
  }
 },
 "nbformat": 4,
 "nbformat_minor": 5
}
