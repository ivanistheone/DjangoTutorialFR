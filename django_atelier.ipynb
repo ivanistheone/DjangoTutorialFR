{
 "cells": [
  {
   "cell_type": "code",
   "execution_count": null,
   "id": "6774c7a2-9372-427e-8720-794966009d13",
   "metadata": {},
   "outputs": [],
   "source": []
  },
  {
   "cell_type": "markdown",
   "id": "f62ba8f2-9fc4-4a92-95ed-287c1a206f3b",
   "metadata": {
    "tags": []
   },
   "source": [
    "# Utiliser les gabarits HTML pour afficher les pages\n",
    "\n",
    "\n",
    "\n",
    "\n",
    "```\n",
    "<!doctype html>\n",
    "<html lang=\"en\">\n",
    "\n",
    "  <head>\n",
    "    <meta charset=\"utf-8\">\n",
    "    <title>Titre de la page</title>\n",
    "    <link rel=\"stylesheet\" href=\"https://cdn.jsdelivr.net/npm/bootstrap@4.4.1/dist/css/bootstrap.min.css\">\n",
    "    <style>\n",
    "        body {\n",
    "          padding-top: 4rem;\n",
    "        }\n",
    "    </style>\n",
    "  </head>\n",
    "\n",
    "  <body>\n",
    "    <main class=\"container\">\n",
    "\n",
    "      <div>\n",
    "        <h1>Titre principal</h1>\n",
    "        <p class=\"lead\">\n",
    "            Texte qui explique l'idée de ton site en deux phrases.<br>\n",
    "            Ceci est un document HTML barebones que nous allons modifier.\n",
    "        </p>\n",
    "      </div>\n",
    "\n",
    "    </main>\n",
    "  </body>\n",
    "\n",
    "</html>\n",
    "```"
   ]
  },
  {
   "cell_type": "markdown",
   "id": "a5d947cb-ff3f-4246-a5c6-2a43729e10d4",
   "metadata": {},
   "source": [
    "## Créer et lire des données stockées dans une base de données"
   ]
  },
  {
   "cell_type": "code",
   "execution_count": 2,
   "id": "bcee83e8-9d1d-4002-9911-cdaf5b785a05",
   "metadata": {},
   "outputs": [
    {
     "data": {
      "text/plain": [
       "'/Users/ivan/Projects/Minireference/content/DjangoTutorialFR'"
      ]
     },
     "execution_count": 2,
     "metadata": {},
     "output_type": "execute_result"
    }
   ],
   "source": [
    "%pwd"
   ]
  },
  {
   "cell_type": "code",
   "execution_count": 3,
   "id": "6840edf2-20de-4105-a9fe-9b0c61f3e439",
   "metadata": {},
   "outputs": [
    {
     "name": "stdout",
     "output_type": "stream",
     "text": [
      "/Users/ivan/Projects/Minireference/content/DjangoTutorialFR/monproj\n"
     ]
    }
   ],
   "source": [
    "%cd monproj"
   ]
  },
  {
   "cell_type": "code",
   "execution_count": 5,
   "id": "337d6324-c91f-4a39-af26-4b0fe404382f",
   "metadata": {},
   "outputs": [],
   "source": [
    "# !./manage.py makemigrations"
   ]
  },
  {
   "cell_type": "code",
   "execution_count": 6,
   "id": "708e44c0-1be3-4018-ac11-3d48d53e4f6b",
   "metadata": {},
   "outputs": [],
   "source": [
    "# !./manage.py migrate"
   ]
  },
  {
   "cell_type": "code",
   "execution_count": null,
   "id": "0e7327b4-b825-49d0-afa8-1c073a16aa2b",
   "metadata": {},
   "outputs": [],
   "source": []
  }
 ],
 "metadata": {
  "kernelspec": {
   "display_name": "Python 3 (ipykernel)",
   "language": "python",
   "name": "python3"
  },
  "language_info": {
   "codemirror_mode": {
    "name": "ipython",
    "version": 3
   },
   "file_extension": ".py",
   "mimetype": "text/x-python",
   "name": "python",
   "nbconvert_exporter": "python",
   "pygments_lexer": "ipython3",
   "version": "3.8.12"
  }
 },
 "nbformat": 4,
 "nbformat_minor": 5
}
